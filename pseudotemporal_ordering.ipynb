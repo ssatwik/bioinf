{
 "cells": [
  {
   "cell_type": "code",
   "execution_count": 1,
   "id": "5e0e7b9b",
   "metadata": {},
   "outputs": [],
   "source": [
    "import scanpy as sc"
   ]
  },
  {
   "cell_type": "code",
   "execution_count": 2,
   "id": "58693fda",
   "metadata": {},
   "outputs": [
    {
     "data": {
      "application/vnd.jupyter.widget-view+json": {
       "model_id": "574a4c89935342fd8f16a5bb0102a80d",
       "version_major": 2,
       "version_minor": 0
      },
      "text/plain": [
       "  0%|          | 0.00/370M [00:00<?, ?B/s]"
      ]
     },
     "metadata": {},
     "output_type": "display_data"
    },
    {
     "data": {
      "text/plain": [
       "AnnData object with n_obs × n_vars = 5780 × 27876\n",
       "    obs: 'clusters', 'palantir_pseudotime', 'palantir_diff_potential'\n",
       "    var: 'palantir'\n",
       "    uns: 'clusters_colors', 'palantir_branch_probs_cell_types'\n",
       "    obsm: 'MAGIC_imputed_data', 'X_tsne', 'palantir_branch_probs'\n",
       "    layers: 'spliced', 'unspliced'"
      ]
     },
     "execution_count": 2,
     "metadata": {},
     "output_type": "execute_result"
    }
   ],
   "source": [
    "adata = sc.read(\n",
    "    filename='bone_marrow.h5ad',\n",
    "    backup_url=\"https://figshare.com/ndownloader/files/35826944\",\n",
    ")\n",
    "adata"
   ]
  },
  {
   "cell_type": "code",
   "execution_count": null,
   "id": "2e404617",
   "metadata": {},
   "outputs": [],
   "source": []
  }
 ],
 "metadata": {
  "kernelspec": {
   "display_name": "shortcake_default",
   "language": "python",
   "name": "shortcake_default"
  },
  "language_info": {
   "codemirror_mode": {
    "name": "ipython",
    "version": 3
   },
   "file_extension": ".py",
   "mimetype": "text/x-python",
   "name": "python",
   "nbconvert_exporter": "python",
   "pygments_lexer": "ipython3",
   "version": "3.10.16"
  }
 },
 "nbformat": 4,
 "nbformat_minor": 5
}
