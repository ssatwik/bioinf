{
 "cells": [
  {
   "cell_type": "code",
   "execution_count": 1,
   "id": "08ecaf42",
   "metadata": {},
   "outputs": [],
   "source": [
    "import scanpy as sc\n",
    "import pandas as pd\n",
    "import os\n",
    "import matplotlib\n",
    "import matplotlib.pyplot as plt\n",
    "import numpy as np\n",
    "import warnings\n",
    "from numba.core.errors import NumbaDeprecationWarning\n",
    "\n",
    "warnings.filterwarnings(action=\"ignore\", category=NumbaDeprecationWarning)\n",
    "warnings.filterwarnings(\n",
    "    action=\"ignore\", module=\"scanpy\", message=\"No data for colormapping\"\n",
    ")\n",
    "%matplotlib inline"
   ]
  },
  {
   "cell_type": "code",
   "execution_count": 2,
   "id": "8ba10ba1",
   "metadata": {},
   "outputs": [
    {
     "name": "stderr",
     "output_type": "stream",
     "text": [
      "/tmp/ipykernel_57/2174054843.py:8: DeprecationWarning: The global conversion available with activate() is deprecated and will be removed in the next major release. Use a local converter.\n",
      "  anndata2ri.activate()\n"
     ]
    }
   ],
   "source": [
    "import anndata2ri\n",
    "import logging\n",
    "import rpy2.rinterface_lib.callbacks as rcb\n",
    "import rpy2.robjects as ro\n",
    "\n",
    "rcb.logger.setLevel(logging.ERROR)\n",
    "ro.pandas2ri.activate()\n",
    "anndata2ri.activate()\n",
    "\n",
    "%load_ext rpy2.ipython"
   ]
  },
  {
   "cell_type": "code",
   "execution_count": 3,
   "id": "cda098a4",
   "metadata": {},
   "outputs": [
    {
     "name": "stdout",
     "output_type": "stream",
     "text": [
      "── Attaching core tidyverse packages ──────────────────────── tidyverse 2.0.0 ──\n",
      "✔ dplyr     1.1.4     ✔ readr     2.1.5\n",
      "✔ forcats   1.0.0     ✔ stringr   1.5.1\n",
      "✔ ggplot2   3.5.1     ✔ tibble    3.2.1\n",
      "✔ lubridate 1.9.4     ✔ tidyr     1.3.1\n",
      "✔ purrr     1.0.4     \n",
      "── Conflicts ────────────────────────────────────────── tidyverse_conflicts() ──\n",
      "✖ dplyr::filter() masks stats::filter()\n",
      "✖ dplyr::lag()    masks stats::lag()\n",
      "ℹ Use the conflicted package (<http://conflicted.r-lib.org/>) to force all conflicts to become errors\n"
     ]
    },
    {
     "data": {
      "text/plain": [
       "Loading required package: dynfeature\n",
       "Loading required package: dynguidelines\n",
       "Loading required package: dynmethods\n",
       "Loading required package: dynplot\n",
       "Loading required package: dynwrap\n",
       "In addition: Warning message:\n",
       "In (function (package, help, pos = 2, lib.loc = NULL, character.only = FALSE,  :\n",
       "  library ‘/usr/lib/R/site-library’ contains no packages\n"
      ]
     },
     "metadata": {},
     "output_type": "display_data"
    }
   ],
   "source": [
    "%%R\n",
    "library(tidyverse)\n",
    "library(dyno)"
   ]
  },
  {
   "cell_type": "code",
   "execution_count": 4,
   "id": "5a182740",
   "metadata": {},
   "outputs": [],
   "source": [
    "%%R\n",
    "data <- readRDS(\"mesoderm-development_loh (1).rds\")\n",
    "# str(data)"
   ]
  },
  {
   "cell_type": "code",
   "execution_count": 5,
   "id": "74e03745",
   "metadata": {},
   "outputs": [],
   "source": [
    "%%R\n",
    "counts <- data$counts\n",
    "expression <- data$expression"
   ]
  },
  {
   "cell_type": "code",
   "execution_count": 6,
   "id": "bb779aed",
   "metadata": {},
   "outputs": [],
   "source": [
    "%%R\n",
    "dataset <- wrap_expression(\n",
    "  expression = expression,\n",
    "  counts = counts\n",
    ")"
   ]
  },
  {
   "cell_type": "code",
   "execution_count": 7,
   "id": "84d075bc",
   "metadata": {},
   "outputs": [
    {
     "name": "stdout",
     "output_type": "stream",
     "text": [
      "[1] \"SRR3952356\"\n",
      "[1] \"H7hESC\"\n"
     ]
    }
   ],
   "source": [
    "%%R --o grouping\n",
    "print(data$prior_information$start_id)\n",
    "print(data$prior_information$start_milestones)\n",
    "grouping <- data$grouping\n",
    "# grouping <- ifelse(grouping == \"H7hESC\", \"H7hESC\", \"temp\")\n",
    "# grouping <- ifelse(names(grouping) == \"SRR3952356\", \"start\", \"temp\")\n",
    "# str(grouping)"
   ]
  },
  {
   "cell_type": "code",
   "execution_count": 8,
   "id": "813c3381",
   "metadata": {},
   "outputs": [],
   "source": [
    "%%R\n",
    "dataset <- add_prior_information(\n",
    "    dataset,\n",
    "    start_id = data$prior_information$start_id\n",
    ")\n",
    "dataset <- add_grouping(\n",
    "    dataset,\n",
    "    data$grouping\n",
    ")"
   ]
  },
  {
   "cell_type": "code",
   "execution_count": 9,
   "id": "5556eb14",
   "metadata": {},
   "outputs": [
    {
     "name": "stdout",
     "output_type": "stream",
     "text": [
      "Docker version 26.1.3, build 26.1.3-0ubuntu1~22.04.1\r\n"
     ]
    }
   ],
   "source": [
    "!docker --version\n"
   ]
  },
  {
   "cell_type": "code",
   "execution_count": 10,
   "id": "b72fed59",
   "metadata": {},
   "outputs": [],
   "source": [
    "# os.makedirs('/mnt/tmp', exist_ok=True)\n",
    "# os.environ['TMPDIR'] = '/mnt/tmp'"
   ]
  },
  {
   "cell_type": "code",
   "execution_count": 11,
   "id": "97539c14",
   "metadata": {},
   "outputs": [],
   "source": [
    "# %%R\n",
    "# Sys.setenv(TMPDIR = \"/mnt/tmp\")  # Set TMPDIR in R itself"
   ]
  },
  {
   "cell_type": "code",
   "execution_count": 12,
   "id": "430534d0",
   "metadata": {},
   "outputs": [],
   "source": [
    "# !chmod 1777 /mnt/tmp"
   ]
  },
  {
   "cell_type": "code",
   "execution_count": 13,
   "id": "11f275c4",
   "metadata": {},
   "outputs": [],
   "source": [
    "# !touch /mnt/tmp/testfile\n",
    "# !ls -l /mnt/tmp/testfile\n"
   ]
  },
  {
   "cell_type": "code",
   "execution_count": 14,
   "id": "b30042dc",
   "metadata": {},
   "outputs": [],
   "source": [
    "# print(os.getenv(\"TMPDIR\"))"
   ]
  },
  {
   "cell_type": "code",
   "execution_count": 15,
   "id": "74ee6bfd",
   "metadata": {},
   "outputs": [],
   "source": [
    "# !echo $TMPDIR"
   ]
  },
  {
   "cell_type": "code",
   "execution_count": 16,
   "id": "8f1838dc",
   "metadata": {},
   "outputs": [
    {
     "name": "stdout",
     "output_type": "stream",
     "text": [
      "[1] \"/tmp/RtmpOYEtgX/file391a9fe804\"\n"
     ]
    }
   ],
   "source": [
    "%%R\n",
    "tempfile()"
   ]
  },
  {
   "cell_type": "code",
   "execution_count": 17,
   "id": "98c260e4",
   "metadata": {},
   "outputs": [],
   "source": [
    "!chmod 1777 /tmp"
   ]
  },
  {
   "cell_type": "code",
   "execution_count": 18,
   "id": "1a1d736f",
   "metadata": {},
   "outputs": [
    {
     "name": "stdout",
     "output_type": "stream",
     "text": [
      "drwxrwxrwt 1 root root 4096 Feb 18 06:02 \u001b[0m\u001b[30;42m/tmp\u001b[0m/\r\n"
     ]
    }
   ],
   "source": [
    "ls -ld /tmp"
   ]
  },
  {
   "cell_type": "code",
   "execution_count": 19,
   "id": "153c512f",
   "metadata": {},
   "outputs": [
    {
     "name": "stdout",
     "output_type": "stream",
     "text": [
      "[1] TRUE\n"
     ]
    }
   ],
   "source": [
    "%%R\n",
    "file.create(\"/tmp/testfile_r\")\n",
    "file.exists(\"/tmp/testfile_r\")\n"
   ]
  },
  {
   "cell_type": "code",
   "execution_count": 20,
   "id": "5cb91e50",
   "metadata": {},
   "outputs": [
    {
     "name": "stdout",
     "output_type": "stream",
     "text": [
      "[1] \"\"\n"
     ]
    }
   ],
   "source": [
    "%%R\n",
    "Sys.getenv(\"TMPDIR\")"
   ]
  },
  {
   "cell_type": "code",
   "execution_count": 21,
   "id": "71bf16a1",
   "metadata": {},
   "outputs": [
    {
     "name": "stdout",
     "output_type": "stream",
     "text": [
      "[1] \"/tmp/RtmpOYEtgX/file395d945ce2\"\n"
     ]
    }
   ],
   "source": [
    "%%R\n",
    "tempfile()"
   ]
  },
  {
   "cell_type": "code",
   "execution_count": 22,
   "id": "930a70c0",
   "metadata": {},
   "outputs": [
    {
     "name": "stdout",
     "output_type": "stream",
     "text": [
      "chmod: cannot access '/tmp/RtmpCxHYT7': No such file or directory\r\n"
     ]
    }
   ],
   "source": [
    "!chmod -R 1777 /tmp/RtmpCxHYT7"
   ]
  },
  {
   "cell_type": "code",
   "execution_count": 23,
   "id": "560c5dc1",
   "metadata": {},
   "outputs": [
    {
     "name": "stdout",
     "output_type": "stream",
     "text": [
      "ls: cannot access '/tmp/RtmpJHiiAQ': No such file or directory\r\n"
     ]
    }
   ],
   "source": [
    "ls -ld /tmp/RtmpJHiiAQ"
   ]
  },
  {
   "cell_type": "code",
   "execution_count": 24,
   "id": "30562813",
   "metadata": {},
   "outputs": [
    {
     "name": "stdout",
     "output_type": "stream",
     "text": [
      "drwxrwxrwt 1 root root 4096 Feb 18 06:02 \u001b[0m\u001b[30;42m/tmp\u001b[0m/\r\n"
     ]
    }
   ],
   "source": [
    "ls -ld /tmp"
   ]
  },
  {
   "cell_type": "code",
   "execution_count": 25,
   "id": "aa810f66",
   "metadata": {},
   "outputs": [
    {
     "name": "stdout",
     "output_type": "stream",
     "text": [
      "[1] \"/tmp/RtmpOYEtgX/file3976375c2c\"\n"
     ]
    }
   ],
   "source": [
    "%%R\n",
    "Sys.getenv(\"TMPDIR\")\n",
    "tempfile()"
   ]
  },
  {
   "cell_type": "code",
   "execution_count": 26,
   "id": "1bbed8a0",
   "metadata": {},
   "outputs": [],
   "source": [
    "%%R\n",
    "Sys.setenv(TMPDIR = \"/tmp\")\n",
    "options(tmpdir = \"/tmp\")"
   ]
  },
  {
   "cell_type": "code",
   "execution_count": 27,
   "id": "3d92f450",
   "metadata": {},
   "outputs": [
    {
     "name": "stdout",
     "output_type": "stream",
     "text": [
      "/usr/bin/sh: 1: setfacl: not found\n",
      "/usr/bin/sh: 1: setfacl: not found\n",
      "/usr/bin/sh: 1: setfacl: not found\n"
     ]
    }
   ],
   "source": [
    "!setfacl -d -m u::rwx /tmp\n",
    "!setfacl -d -m g::rwx /tmp\n",
    "!setfacl -d -m o::rwx /tmp\n"
   ]
  },
  {
   "cell_type": "code",
   "execution_count": 31,
   "id": "4a1c2acf",
   "metadata": {},
   "outputs": [
    {
     "name": "stdout",
     "output_type": "stream",
     "text": [
      "drwxrwxrwt 1 root root 4096 Feb 18 06:02 \u001b[0m\u001b[30;42m/tmp\u001b[0m/\r\n"
     ]
    }
   ],
   "source": [
    "ls -ld /tmp"
   ]
  },
  {
   "cell_type": "code",
   "execution_count": 32,
   "id": "2f47df85",
   "metadata": {},
   "outputs": [
    {
     "name": "stdout",
     "output_type": "stream",
     "text": [
      "drwx------ 3 root root 4096 Feb 18 06:02 \u001b[0m\u001b[01;34m/tmp/RtmpOYEtgX\u001b[0m/\r\n"
     ]
    }
   ],
   "source": [
    "ls -ld /tmp/RtmpOYEtgX"
   ]
  },
  {
   "cell_type": "code",
   "execution_count": 61,
   "id": "a75bde96",
   "metadata": {},
   "outputs": [
    {
     "name": "stdout",
     "output_type": "stream",
     "text": [
      "Error in file(con, \"r\") : cannot open the connection\n",
      "In addition: Warning message:\n",
      "In file(con, \"r\") :\n",
      "  cannot open file '/mnt/Desktop/rcall/Rtmpm6trVN/file39733e832//tmpfile': No such file or directory\n",
      "Error in file(con, \"r\") : cannot open the connection\n"
     ]
    },
    {
     "ename": "RInterpreterError",
     "evalue": "Failed to parse and evaluate line 'paga_model <- infer_trajectory(dataset, ti_paga(), give_priors = c(\"start_id\"))\\n'.\nR error message: 'Error in file(con, \"r\") : cannot open the connection'\nR stdout:\nError in file(con, \"r\") : cannot open the connection\nIn addition: Warning message:\nIn file(con, \"r\") :\n  cannot open file '/mnt/Desktop/rcall/Rtmpm6trVN/file39733e832//tmpfile': No such file or directory",
     "output_type": "error",
     "traceback": [
      "\u001b[0;31m---------------------------------------------------------------------------\u001b[0m",
      "\u001b[0;31mRRuntimeError\u001b[0m                             Traceback (most recent call last)",
      "File \u001b[0;32m/opt/micromamba/lib/python3.10/site-packages/rpy2/ipython/rmagic.py:407\u001b[0m, in \u001b[0;36mRMagics.eval\u001b[0;34m(self, code)\u001b[0m\n\u001b[1;32m    406\u001b[0m     r_expr \u001b[38;5;241m=\u001b[39m ri\u001b[38;5;241m.\u001b[39mparse(code)\n\u001b[0;32m--> 407\u001b[0m     value, visible \u001b[38;5;241m=\u001b[39m \u001b[43mri\u001b[49m\u001b[38;5;241;43m.\u001b[39;49m\u001b[43mevalr_expr_with_visible\u001b[49m\u001b[43m(\u001b[49m\n\u001b[1;32m    408\u001b[0m \u001b[43m        \u001b[49m\u001b[43mr_expr\u001b[49m\n\u001b[1;32m    409\u001b[0m \u001b[43m    \u001b[49m\u001b[43m)\u001b[49m\n\u001b[1;32m    410\u001b[0m \u001b[38;5;28;01mexcept\u001b[39;00m (ri\u001b[38;5;241m.\u001b[39membedded\u001b[38;5;241m.\u001b[39mRRuntimeError, \u001b[38;5;167;01mValueError\u001b[39;00m) \u001b[38;5;28;01mas\u001b[39;00m exception:\n\u001b[1;32m    411\u001b[0m     \u001b[38;5;66;03m# Otherwise next return seems to have copy of error.\u001b[39;00m\n",
      "File \u001b[0;32m/opt/micromamba/lib/python3.10/site-packages/rpy2/rinterface.py:194\u001b[0m, in \u001b[0;36mevalr_expr_with_visible\u001b[0;34m(expr, envir)\u001b[0m\n\u001b[1;32m    193\u001b[0m \u001b[38;5;28;01mif\u001b[39;00m error_occured[\u001b[38;5;241m0\u001b[39m]:\n\u001b[0;32m--> 194\u001b[0m     \u001b[38;5;28;01mraise\u001b[39;00m embedded\u001b[38;5;241m.\u001b[39mRRuntimeError(_rinterface\u001b[38;5;241m.\u001b[39m_geterrmessage())\n\u001b[1;32m    195\u001b[0m res \u001b[38;5;241m=\u001b[39m conversion\u001b[38;5;241m.\u001b[39m_cdata_to_rinterface(r_res)\n",
      "\u001b[0;31mRRuntimeError\u001b[0m: Error in file(con, \"r\") : cannot open the connection\n",
      "\nDuring handling of the above exception, another exception occurred:\n",
      "\u001b[0;31mRInterpreterError\u001b[0m                         Traceback (most recent call last)",
      "Cell \u001b[0;32mIn[61], line 1\u001b[0m\n\u001b[0;32m----> 1\u001b[0m \u001b[43mget_ipython\u001b[49m\u001b[43m(\u001b[49m\u001b[43m)\u001b[49m\u001b[38;5;241;43m.\u001b[39;49m\u001b[43mrun_cell_magic\u001b[49m\u001b[43m(\u001b[49m\u001b[38;5;124;43m'\u001b[39;49m\u001b[38;5;124;43mR\u001b[39;49m\u001b[38;5;124;43m'\u001b[39;49m\u001b[43m,\u001b[49m\u001b[43m \u001b[49m\u001b[38;5;124;43m'\u001b[39;49m\u001b[38;5;124;43m'\u001b[39;49m\u001b[43m,\u001b[49m\u001b[43m \u001b[49m\u001b[38;5;124;43m'\u001b[39;49m\u001b[38;5;124;43mpaga_model <- infer_trajectory(dataset, ti_paga(), give_priors = c(\u001b[39;49m\u001b[38;5;124;43m\"\u001b[39;49m\u001b[38;5;124;43mstart_id\u001b[39;49m\u001b[38;5;124;43m\"\u001b[39;49m\u001b[38;5;124;43m))\u001b[39;49m\u001b[38;5;130;43;01m\\n\u001b[39;49;00m\u001b[38;5;124;43m'\u001b[39;49m\u001b[43m)\u001b[49m\n",
      "File \u001b[0;32m/opt/micromamba/lib/python3.10/site-packages/IPython/core/interactiveshell.py:2517\u001b[0m, in \u001b[0;36mInteractiveShell.run_cell_magic\u001b[0;34m(self, magic_name, line, cell)\u001b[0m\n\u001b[1;32m   2515\u001b[0m \u001b[38;5;28;01mwith\u001b[39;00m \u001b[38;5;28mself\u001b[39m\u001b[38;5;241m.\u001b[39mbuiltin_trap:\n\u001b[1;32m   2516\u001b[0m     args \u001b[38;5;241m=\u001b[39m (magic_arg_s, cell)\n\u001b[0;32m-> 2517\u001b[0m     result \u001b[38;5;241m=\u001b[39m \u001b[43mfn\u001b[49m\u001b[43m(\u001b[49m\u001b[38;5;241;43m*\u001b[39;49m\u001b[43margs\u001b[49m\u001b[43m,\u001b[49m\u001b[43m \u001b[49m\u001b[38;5;241;43m*\u001b[39;49m\u001b[38;5;241;43m*\u001b[39;49m\u001b[43mkwargs\u001b[49m\u001b[43m)\u001b[49m\n\u001b[1;32m   2519\u001b[0m \u001b[38;5;66;03m# The code below prevents the output from being displayed\u001b[39;00m\n\u001b[1;32m   2520\u001b[0m \u001b[38;5;66;03m# when using magics with decorator @output_can_be_silenced\u001b[39;00m\n\u001b[1;32m   2521\u001b[0m \u001b[38;5;66;03m# when the last Python token in the expression is a ';'.\u001b[39;00m\n\u001b[1;32m   2522\u001b[0m \u001b[38;5;28;01mif\u001b[39;00m \u001b[38;5;28mgetattr\u001b[39m(fn, magic\u001b[38;5;241m.\u001b[39mMAGIC_OUTPUT_CAN_BE_SILENCED, \u001b[38;5;28;01mFalse\u001b[39;00m):\n",
      "File \u001b[0;32m/opt/micromamba/lib/python3.10/site-packages/rpy2/ipython/rmagic.py:984\u001b[0m, in \u001b[0;36mRMagics.R\u001b[0;34m(self, line, cell, local_ns)\u001b[0m\n\u001b[1;32m    982\u001b[0m     \u001b[38;5;28;01mif\u001b[39;00m \u001b[38;5;129;01mnot\u001b[39;00m e\u001b[38;5;241m.\u001b[39mstdout\u001b[38;5;241m.\u001b[39mendswith(e\u001b[38;5;241m.\u001b[39merr):\n\u001b[1;32m    983\u001b[0m         \u001b[38;5;28mprint\u001b[39m(e\u001b[38;5;241m.\u001b[39merr)\n\u001b[0;32m--> 984\u001b[0m     \u001b[38;5;28;01mraise\u001b[39;00m e\n\u001b[1;32m    985\u001b[0m \u001b[38;5;28;01mfinally\u001b[39;00m:\n\u001b[1;32m    986\u001b[0m     \u001b[38;5;28;01mif\u001b[39;00m \u001b[38;5;28mself\u001b[39m\u001b[38;5;241m.\u001b[39mdevice \u001b[38;5;129;01min\u001b[39;00m DEVICES_STATIC:\n",
      "File \u001b[0;32m/opt/micromamba/lib/python3.10/site-packages/rpy2/ipython/rmagic.py:949\u001b[0m, in \u001b[0;36mRMagics.R\u001b[0;34m(self, line, cell, local_ns)\u001b[0m\n\u001b[1;32m    947\u001b[0m         return_output \u001b[38;5;241m=\u001b[39m \u001b[38;5;28;01mFalse\u001b[39;00m\n\u001b[1;32m    948\u001b[0m \u001b[38;5;28;01melse\u001b[39;00m:\n\u001b[0;32m--> 949\u001b[0m     text_result, result, visible \u001b[38;5;241m=\u001b[39m \u001b[38;5;28;43mself\u001b[39;49m\u001b[38;5;241;43m.\u001b[39;49m\u001b[43meval\u001b[49m\u001b[43m(\u001b[49m\u001b[43mcode\u001b[49m\u001b[43m)\u001b[49m\n\u001b[1;32m    950\u001b[0m     text_output \u001b[38;5;241m+\u001b[39m\u001b[38;5;241m=\u001b[39m text_result\n\u001b[1;32m    951\u001b[0m     \u001b[38;5;28;01mif\u001b[39;00m visible:\n",
      "File \u001b[0;32m/opt/micromamba/lib/python3.10/site-packages/rpy2/ipython/rmagic.py:413\u001b[0m, in \u001b[0;36mRMagics.eval\u001b[0;34m(self, code)\u001b[0m\n\u001b[1;32m    410\u001b[0m \u001b[38;5;28;01mexcept\u001b[39;00m (ri\u001b[38;5;241m.\u001b[39membedded\u001b[38;5;241m.\u001b[39mRRuntimeError, \u001b[38;5;167;01mValueError\u001b[39;00m) \u001b[38;5;28;01mas\u001b[39;00m exception:\n\u001b[1;32m    411\u001b[0m     \u001b[38;5;66;03m# Otherwise next return seems to have copy of error.\u001b[39;00m\n\u001b[1;32m    412\u001b[0m     warning_or_other_msg \u001b[38;5;241m=\u001b[39m \u001b[38;5;28mself\u001b[39m\u001b[38;5;241m.\u001b[39mflush()\n\u001b[0;32m--> 413\u001b[0m     \u001b[38;5;28;01mraise\u001b[39;00m RInterpreterError(code, \u001b[38;5;28mstr\u001b[39m(exception),\n\u001b[1;32m    414\u001b[0m                             warning_or_other_msg)\n\u001b[1;32m    415\u001b[0m \u001b[38;5;28;01mfinally\u001b[39;00m:\n\u001b[1;32m    416\u001b[0m     ro\u001b[38;5;241m.\u001b[39m_print_deferred_warnings()\n",
      "\u001b[0;31mRInterpreterError\u001b[0m: Failed to parse and evaluate line 'paga_model <- infer_trajectory(dataset, ti_paga(), give_priors = c(\"start_id\"))\\n'.\nR error message: 'Error in file(con, \"r\") : cannot open the connection'\nR stdout:\nError in file(con, \"r\") : cannot open the connection\nIn addition: Warning message:\nIn file(con, \"r\") :\n  cannot open file '/mnt/Desktop/rcall/Rtmpm6trVN/file39733e832//tmpfile': No such file or directory"
     ]
    }
   ],
   "source": [
    "%%R\n",
    "paga_model <- infer_trajectory(dataset, ti_paga(), give_priors = c(\"start_id\"))"
   ]
  },
  {
   "cell_type": "code",
   "execution_count": 34,
   "id": "f5d6f1ca",
   "metadata": {},
   "outputs": [
    {
     "name": "stdout",
     "output_type": "stream",
     "text": [
      "[1] \"/tmp/RtmpOYEtgX\"\n"
     ]
    }
   ],
   "source": [
    "%%R\n",
    "tempdir()"
   ]
  },
  {
   "cell_type": "code",
   "execution_count": 38,
   "id": "97f8d37c",
   "metadata": {},
   "outputs": [],
   "source": [
    "%%R\n",
    "newtmp <- \"/mnt/Desktop/rcall\""
   ]
  },
  {
   "cell_type": "code",
   "execution_count": 39,
   "id": "9f49639c",
   "metadata": {},
   "outputs": [],
   "source": [
    "%%R\n",
    "dir.create(newtmp)"
   ]
  },
  {
   "cell_type": "code",
   "execution_count": 42,
   "id": "e2847564",
   "metadata": {},
   "outputs": [],
   "source": [
    "%%R\n",
    "Sys.setenv(TMPDIR = tools::file_path_as_absolute(newtmp))"
   ]
  },
  {
   "cell_type": "code",
   "execution_count": 43,
   "id": "34c75916",
   "metadata": {},
   "outputs": [],
   "source": [
    "%%R\n",
    "unlink(tempdir(), recursive = TRUE)"
   ]
  },
  {
   "cell_type": "code",
   "execution_count": 62,
   "id": "8d85df58",
   "metadata": {},
   "outputs": [
    {
     "name": "stdout",
     "output_type": "stream",
     "text": [
      "[1] \"/mnt/Desktop/rcall/Rtmpm6trVN\"\n"
     ]
    }
   ],
   "source": [
    "%%R\n",
    "tempdir(check=TRUE)"
   ]
  },
  {
   "cell_type": "code",
   "execution_count": 63,
   "id": "706bd458",
   "metadata": {},
   "outputs": [
    {
     "name": "stdout",
     "output_type": "stream",
     "text": [
      "drwxr-xr-x 1 root root 4096 Feb 17 16:00 \u001b[0m\u001b[01;34m/mnt\u001b[0m/\r\n"
     ]
    }
   ],
   "source": [
    "ls -ld /mnt"
   ]
  },
  {
   "cell_type": "code",
   "execution_count": 64,
   "id": "b34d5d65",
   "metadata": {},
   "outputs": [
    {
     "name": "stdout",
     "output_type": "stream",
     "text": [
      "drwx------ 7 1000 1000 4096 Feb 18 06:54 \u001b[0m\u001b[01;34m/mnt/Desktop\u001b[0m/\r\n"
     ]
    }
   ],
   "source": [
    "ls -ld /mnt/Desktop"
   ]
  },
  {
   "cell_type": "code",
   "execution_count": 65,
   "id": "2349a37c",
   "metadata": {},
   "outputs": [
    {
     "name": "stdout",
     "output_type": "stream",
     "text": [
      "drwxrwxrwx 3 1000 1000 4096 Feb 18 06:55 \u001b[0m\u001b[34;42m/mnt/Desktop/rcall\u001b[0m/\r\n"
     ]
    }
   ],
   "source": [
    "ls -ld /mnt/Desktop/rcall"
   ]
  },
  {
   "cell_type": "code",
   "execution_count": 66,
   "id": "873891ff",
   "metadata": {},
   "outputs": [
    {
     "name": "stdout",
     "output_type": "stream",
     "text": [
      "drwxrwxrwx 4 1000 1000 4096 Feb 18 07:00 \u001b[0m\u001b[34;42m/mnt/Desktop/rcall/Rtmpm6trVN\u001b[0m/\r\n"
     ]
    }
   ],
   "source": [
    "ls -ld /mnt/Desktop/rcall/Rtmpm6trVN"
   ]
  },
  {
   "cell_type": "code",
   "execution_count": 54,
   "id": "19bdbc5c",
   "metadata": {},
   "outputs": [],
   "source": [
    "!sudo chown -R 1000:1000 /mnt/Desktop/rcall"
   ]
  },
  {
   "cell_type": "code",
   "execution_count": 55,
   "id": "6c28f763",
   "metadata": {},
   "outputs": [],
   "source": [
    "!chmod -R 777 /mnt/Desktop/rcall"
   ]
  },
  {
   "cell_type": "code",
   "execution_count": 67,
   "id": "eb54cbad",
   "metadata": {},
   "outputs": [
    {
     "name": "stdout",
     "output_type": "stream",
     "text": [
      "total 16\r\n",
      "drwxrwxrwx 4 1000 1000 4096 Feb 18 07:00 \u001b[0m\u001b[34;42m.\u001b[0m/\r\n",
      "drwxrwxrwx 3 1000 1000 4096 Feb 18 06:55 \u001b[34;42m..\u001b[0m/\r\n",
      "drwxr-xr-x 3 root root 4096 Feb 18 06:59 \u001b[01;34mfile394a54e3a2\u001b[0m/\r\n",
      "drwxrwxrwx 3 1000 1000 4096 Feb 18 06:55 \u001b[34;42mfile395595f451\u001b[0m/\r\n"
     ]
    }
   ],
   "source": [
    "ls -la /mnt/Desktop/rcall/Rtmpm6trVN/\n"
   ]
  }
 ],
 "metadata": {
  "kernelspec": {
   "display_name": "new shortcake",
   "language": "python",
   "name": "shortcake_default"
  },
  "language_info": {
   "codemirror_mode": {
    "name": "ipython",
    "version": 3
   },
   "file_extension": ".py",
   "mimetype": "text/x-python",
   "name": "python",
   "nbconvert_exporter": "python",
   "pygments_lexer": "ipython3",
   "version": "3.10.13"
  }
 },
 "nbformat": 4,
 "nbformat_minor": 5
}
